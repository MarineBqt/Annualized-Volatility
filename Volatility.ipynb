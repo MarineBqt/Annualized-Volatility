{
 "cells": [
  {
   "cell_type": "markdown",
   "id": "f2c004b8",
   "metadata": {},
   "source": [
    "# <center>Volatility</center>"
   ]
  },
  {
   "cell_type": "markdown",
   "id": "4ad24de4",
   "metadata": {},
   "source": [
    "Volatility/standard deviation is a measure of the dispersion of returns over a given period relative to the mean. Volatility is often used as a measure of risk, as investments with higher volatility tend to be perceived as riskier due to greater fluctuations in their returns.\n",
    "\n",
    "$$\\text{Volatility}=\\sqrt{E[(X-E[X])^2]}$$\n",
    "\n",
    "Upper & Lower semi deviations can be used to give a more complete picture of an investment's risk profile as they provide separate measures of positive and negative returns.\n",
    "\n",
    "$$\\sigma_-(X)=\\sqrt{E[(X-E[X])_-^2]}\\qquad\\sigma_+(X)=\\sqrt{E[(X-E[X])_+^2]}$$\n",
    "\n",
    "Here we want to calculate these 3 risk measure for Natixis stock."
   ]
  },
  {
   "cell_type": "code",
   "execution_count": 118,
   "id": "c334ce9a",
   "metadata": {},
   "outputs": [],
   "source": [
    "import scipy.stats as st    \n",
    "import numpy as np\n",
    "import matplotlib.pyplot as plt\n",
    "import datetime as dt\n",
    "from datetime import datetime\n",
    "\n",
    "#Open File\n",
    "def Openfile(file):\n",
    "    f=open(file,'r')\n",
    "    l=[]\n",
    "    for line in f:\n",
    "        currentline=line.split()\n",
    "        l.append([datetime.strptime(currentline[0], \"%d/%m/%Y\").date(),float(currentline[1].replace(',','.'))])\n",
    "    f.close()\n",
    "    return l\n",
    "\n",
    "#Rogner la liste en fonction des dates\n",
    "def Rogner(l,debut,fin):\n",
    "    lrogner=[]\n",
    "    for i in range(len(l)):\n",
    "        if l[i][0]>=debut and l[i][0]<=fin:\n",
    "            lrogner.append(l[i])\n",
    "    return lrogner\n",
    "\n",
    "#Calculation of returns\n",
    "def rendement(l):\n",
    "    rend=[]\n",
    "    for i in range(len(l)):\n",
    "        if(i==0): rend.append(0.0)\n",
    "        else: rend.append((l[i][1]-l[i-1][1])/l[i-1][1])\n",
    "    return rend\n",
    "  \n",
    "#Volatility\n",
    "def Volatility(l,start,end):\n",
    "    lrogner=Rogner(l, start, end)\n",
    "    rend=rendement(lrogner)\n",
    "    vol=np.std(rend)\n",
    "    upper_semi_deviation=np.std(list(filter(lambda x: x > 0, rend)))\n",
    "    lower_semi_deviation=np.std(list(filter(lambda x: x < 0, rend)))\n",
    "    return vol,upper_semi_deviation,lower_semi_deviation"
   ]
  },
  {
   "cell_type": "code",
   "execution_count": 119,
   "id": "b82ccf1a",
   "metadata": {},
   "outputs": [
    {
     "name": "stdout",
     "output_type": "stream",
     "text": [
      "Year 1 : vol =  0.019975035827242766 \n",
      "upper semi deviation =  0.01268252407856391 \n",
      "lower semi deviation =  0.01262515647315603 \n",
      "\n",
      "Year 2 : vol =  0.02700104198065025 \n",
      "upper semi deviation =  0.016338276561428094 \n",
      "lower semi deviation =  0.02026777141868367 \n",
      "\n",
      "Year 3 : vol =  0.015917702897877656 \n",
      "upper semi deviation =  0.012456120881143508 \n",
      "lower semi deviation =  0.008084455962247387 \n",
      "\n",
      "Year 4 : vol =  0.015683295115826796 \n",
      "upper semi deviation =  0.009167818977120696 \n",
      "lower semi deviation =  0.01178195044511408 \n",
      "\n"
     ]
    }
   ],
   "source": [
    "#Main\n",
    "l=Openfile('NatixisStock.txt')  #open file\n",
    "\n",
    "vol1,upper_semi_deviation1,lower_semi_deviation1=Volatility(l,dt.date(2015, 1, 1),dt.date(2015, 12, 31))\n",
    "vol2,upper_semi_deviation2,lower_semi_deviation2=Volatility(l,dt.date(2016, 1, 1),dt.date(2016, 12, 31))\n",
    "vol3,upper_semi_deviation3,lower_semi_deviation3=Volatility(l,dt.date(2017, 1, 1),dt.date(2017, 12, 31))\n",
    "vol4,upper_semi_deviation4,lower_semi_deviation4=Volatility(l,dt.date(2018, 1, 1),dt.date(2018, 12, 31))\n",
    "\n",
    "print(\"Year 1 : vol = \",vol1,\"\\nupper semi deviation = \",upper_semi_deviation1,\"\\nlower semi deviation = \",lower_semi_deviation1,\"\\n\")\n",
    "print(\"Year 2 : vol = \",vol2,\"\\nupper semi deviation = \",upper_semi_deviation2,\"\\nlower semi deviation = \",lower_semi_deviation2,\"\\n\")\n",
    "print(\"Year 3 : vol = \",vol3,\"\\nupper semi deviation = \",upper_semi_deviation3,\"\\nlower semi deviation = \",lower_semi_deviation3,\"\\n\")\n",
    "print(\"Year 4 : vol = \",vol4,\"\\nupper semi deviation = \",upper_semi_deviation4,\"\\nlower semi deviation = \",lower_semi_deviation4,\"\\n\")"
   ]
  },
  {
   "cell_type": "code",
   "execution_count": 120,
   "id": "e1ff5516",
   "metadata": {},
   "outputs": [
    {
     "data": {
      "image/png": "[encoded data removed]",
      "text/plain": [
       "<Figure size 432x288 with 1 Axes>"
      ]
     },
     "metadata": {
      "needs_background": "light"
     },
     "output_type": "display_data"
    }
   ],
   "source": [
    "#plot\n",
    "labels=[\"year 1\",\"year 2\",\"year 3\",\"year 4\"]\n",
    "year = np.arange(len(labels))\n",
    "vol=[vol1,vol2,vol3,vol4]\n",
    "upper_semi_deviation=[upper_semi_deviation1,upper_semi_deviation2,upper_semi_deviation3,upper_semi_deviation4]\n",
    "lower_semi_deviation=[lower_semi_deviation1,lower_semi_deviation2,lower_semi_deviation3,lower_semi_deviation4]\n",
    "plt.bar(year-0.2,vol,0.2,label = 'Vol')\n",
    "plt.bar(year,upper_semi_deviation,0.2,label = 'upper_semi_deviation')\n",
    "plt.bar(year+0.2,lower_semi_deviation,0.2,label = 'lower_semi_deviation')\n",
    "plt.title(\"Vol upper and lower semi deviation\")\n",
    "plt.xticks(year, labels)\n",
    "plt.legend()\n",
    "plt.show()"
   ]
  },
  {
   "cell_type": "markdown",
   "id": "dca06337",
   "metadata": {},
   "source": [
    "**<u>Annualized Volatility</u>** :  \n",
    "\n",
    "Annualized volatility is a measure of the fluctuation of the price of a financial instrument over a given period.\n",
    "In traditional probabilistic models, the annual volatility is $\\sqrt{12}$ the\n",
    "monthly volatility, $\\sqrt{52}$ the weekly volatility or $\\sqrt{252}$ the daily volatility.\n",
    "\n",
    "Assumptions:  \n",
    "-Gaussian returns  \n",
    "-identically distributed returns  \n",
    "-independent returns  \n",
    "\n",
    "Incorporating the Hurst exponent into the calculation of annualized volatility can provide a more complete picture of a financial instrument's volatility.  \n",
    "\n",
    "H=0,5 : indicates a random walk (standard Brownian motion)  \n",
    "H>0.5 : indicates trending behavior  \n",
    "H<0.5 : indicates mean-reverting behavior  \n"
   ]
  },
  {
   "cell_type": "code",
   "execution_count": 121,
   "id": "129f2c42",
   "metadata": {},
   "outputs": [
    {
     "name": "stdout",
     "output_type": "stream",
     "text": [
      "Hurst Exponent :  -0.01794461972243643\n",
      "Daily Volatility (2015):  0.019975035827242766\n",
      "Annualized Volatility (2015):  0.3170938633709383\n",
      "Annualized Volatility (2015):  0.32106259097304835\n"
     ]
    }
   ],
   "source": [
    "#Hurst exponent\n",
    "def hurst(time_series, max_lag=20):\n",
    "    lags = range(2, max_lag)\n",
    "    # variances of the lagged differences\n",
    "    tau = [np.std(np.subtract(time_series[lag:], time_series[:-lag])) for lag in lags]\n",
    "    # calculate the slope of the log plot -> the Hurst Exponent\n",
    "    reg = np.polyfit(np.log(lags), np.log(tau), 1)\n",
    "    return reg[0]\n",
    "\n",
    "lrogner=Rogner(l,dt.date(2015, 1, 1),dt.date(2015, 12, 31))\n",
    "rend=rendement(lrogner)\n",
    "hurst_exponent=hurst(rend,20)\n",
    "print(\"Hurst Exponent : \",hurst_exponent)\n",
    "#daily volatility 2015\n",
    "vol=np.std(rend)\n",
    "print(\"Daily Volatility (2015): \",vol)\n",
    "\n",
    "#Annualized Volatility\n",
    "#Without Hurst\n",
    "Annualized_Volatility=vol* np.sqrt(252) #252 nombre de trading days en 2015\n",
    "print(\"Annualized Volatility (2015): \",Annualized_Volatility)\n",
    "\n",
    "#With Hurst\n",
    "Annualized_Volatility = vol * np.sqrt(252) / pow(2.0, hurst_exponent)\n",
    "print(\"Annualized Volatility (2015): \",Annualized_Volatility)\n"
   ]
  }
 ],
 "metadata": {
  "kernelspec": {
   "display_name": "Python 3 (ipykernel)",
   "language": "python",
   "name": "python3"
  },
  "language_info": {
   "codemirror_mode": {
    "name": "ipython",
    "version": 3
   },
   "file_extension": ".py",
   "mimetype": "text/x-python",
   "name": "python",
   "nbconvert_exporter": "python",
   "pygments_lexer": "ipython3",
   "version": "3.9.7"
  }
 },
 "nbformat": 4,
 "nbformat_minor": 5
}
